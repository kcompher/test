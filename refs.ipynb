{
  "nbformat": 4,
  "nbformat_minor": 0,
  "metadata": {
    "kernelspec": {
      "display_name": "Python 3",
      "language": "python",
      "name": "python3"
    },
    "language_info": {
      "codemirror_mode": {
        "name": "ipython",
        "version": 3
      },
      "file_extension": ".py",
      "mimetype": "text/x-python",
      "name": "python",
      "nbconvert_exporter": "python",
      "pygments_lexer": "ipython3",
      "version": "3.7.3"
    },
    "colab": {
      "name": "refs.ipynb",
      "provenance": [],
      "toc_visible": true,
      "include_colab_link": true
    }
  },
  "cells": [
    {
      "cell_type": "markdown",
      "metadata": {
        "id": "view-in-github",
        "colab_type": "text"
      },
      "source": [
        "<a href=\"https://colab.research.google.com/github/kcompher/test/blob/master/refs.ipynb\" target=\"_parent\"><img src=\"https://colab.research.google.com/assets/colab-badge.svg\" alt=\"Open In Colab\"/></a>"
      ]
    },
    {
      "cell_type": "markdown",
      "metadata": {
        "id": "6aC8YvdPWm1Y"
      },
      "source": [
        "# Refs"
      ]
    },
    {
      "cell_type": "markdown",
      "metadata": {
        "id": "oRRCM75mWm1Z"
      },
      "source": [
        "## Feature Engineering and Feature Selection\n",
        "* Principal Component Analysis (PCA)\n",
        "* Non-Negative Matrix Factorization (NMF)\n",
        "* Latent Dirichlet Allocation (LDA)\n",
        "* Independent component analysis (ICA)\n",
        "* SelectKBest\n",
        "* Dimensionality expansion\n",
        "* Polynomial Features\n",
        "* One-Hot Encoding\n",
        "* Scaling with StandardScaler, RobustScaler, MinMaxScaler, Normalizer, and others\n",
        "* Binning values with quantiles or binarize"
      ]
    },
    {
      "cell_type": "code",
      "metadata": {
        "id": "z4WVrkSeWm1a",
        "outputId": "1323e21c-c540-488f-ba30-cf04751623b7"
      },
      "source": [
        "# dimension reduction w breast cancer \n",
        "\n",
        "from sklearn.datasets import load_breast_cancer\n",
        "from sklearn.preprocessing import StandardScaler\n",
        "\n",
        "cancer = load_breast_cancer()\n",
        "# cancer.feature_names\n",
        "\n",
        "# standard scalar \n",
        "scaler = StandardScaler()\n",
        "scaler.fit(cancer.data)\n",
        "X_scaled = scaler.transform(cancer.data)\n",
        "\n",
        "from sklearn.model_selection import train_test_split\n",
        "X_train, X_test, y_train, y_test = train_test_split(\n",
        "    X_scaled, cancer.target, random_state=1)\n",
        "\n",
        "# test raw performance on lr & KNN  \n",
        "from sklearn.linear_model import LinearRegression\n",
        "print((LinearRegression()\n",
        "    .fit(X_train, y_train)\n",
        "    .score(X_test, y_test)))\n",
        "\n",
        "from sklearn.neighbors import KNeighborsClassifier\n",
        "print((KNeighborsClassifier()\n",
        "    .fit(X_train, y_train)\n",
        "    .score(X_test, y_test)))"
      ],
      "execution_count": null,
      "outputs": [
        {
          "output_type": "stream",
          "text": [
            "0.7222686011972143\n",
            "0.951048951048951\n"
          ],
          "name": "stdout"
        }
      ]
    },
    {
      "cell_type": "markdown",
      "metadata": {
        "id": "jJTGXNKkWm1b"
      },
      "source": [
        "## PCA"
      ]
    },
    {
      "cell_type": "code",
      "metadata": {
        "id": "gKd-ZzpMWm1b",
        "outputId": "5101db9e-5f72-46c1-cb97-3ccba6c03fe1"
      },
      "source": [
        "# PCA \n",
        "from sklearn.decomposition import PCA\n",
        "\n",
        "pca = PCA(n_components=2) # how to select # of componenents?\n",
        "pca.fit(X_scaled)\n",
        "X_pca = pca.transform(X_scaled) # fit and transform \n",
        "\n",
        "print(\"Original shape: %s\" % str(X_scaled.shape))\n",
        "print(\"Reduced shape: %s\" % str(X_pca.shape))"
      ],
      "execution_count": null,
      "outputs": [
        {
          "output_type": "stream",
          "text": [
            "Original shape: (569, 30)\n",
            "Reduced shape: (569, 2)\n"
          ],
          "name": "stdout"
        }
      ]
    },
    {
      "cell_type": "code",
      "metadata": {
        "id": "2B11jO3qWm1c"
      },
      "source": [
        "# split pca set\n",
        "X_train, X_test, y_train, y_test = train_test_split(\n",
        "    X_pca, cancer.target, random_state=1)"
      ],
      "execution_count": null,
      "outputs": []
    },
    {
      "cell_type": "code",
      "metadata": {
        "id": "5ymdBE8jWm1c",
        "outputId": "8ebbb0a2-73a2-4fae-9f83-57383399dc75"
      },
      "source": [
        "(LinearRegression()\n",
        "    .fit(X_train, y_train)\n",
        "    .score(X_test, y_test))"
      ],
      "execution_count": null,
      "outputs": [
        {
          "output_type": "execute_result",
          "data": {
            "text/plain": [
              "0.6279864206554074"
            ]
          },
          "metadata": {
            "tags": []
          },
          "execution_count": 57
        }
      ]
    },
    {
      "cell_type": "code",
      "metadata": {
        "id": "0Lh2bwPsWm1c",
        "outputId": "36563e2e-d86d-4e28-b54d-202e34928465"
      },
      "source": [
        "(KNeighborsClassifier()\n",
        "    .fit(X_train, y_train)\n",
        "    .score(X_test, y_test))"
      ],
      "execution_count": null,
      "outputs": [
        {
          "output_type": "execute_result",
          "data": {
            "text/plain": [
              "0.9440559440559441"
            ]
          },
          "metadata": {
            "tags": []
          },
          "execution_count": 58
        }
      ]
    },
    {
      "cell_type": "markdown",
      "metadata": {
        "id": "3mBKywmCWm1d"
      },
      "source": [
        "## NMF \n",
        "+ non-negative matrices \n",
        "+ good for topic extraction"
      ]
    },
    {
      "cell_type": "code",
      "metadata": {
        "id": "3-Gdy9elWm1d",
        "outputId": "e3d7a17f-e90e-4f90-c8bd-b805a6791bc5"
      },
      "source": [
        "from sklearn.decomposition import NMF\n",
        "\n",
        "nmf = NMF(n_components=2)\n",
        "nmf.fit(cancer.data)\n",
        "X_nmf = nmf.transform(cancer.data)\n",
        "\n",
        "print(\"Original shape: %s\" % str(cancer.data.shape))\n",
        "print(\"Reduced shape: %s\" % str(X_pca.shape))"
      ],
      "execution_count": null,
      "outputs": [
        {
          "output_type": "stream",
          "text": [
            "Original shape: (569, 30)\n",
            "Reduced shape: (569, 2)\n"
          ],
          "name": "stdout"
        }
      ]
    },
    {
      "cell_type": "code",
      "metadata": {
        "id": "H4AxbsgPWm1d",
        "outputId": "1759ee97-dc78-4425-d3c0-ef23a6b41532"
      },
      "source": [
        "X_train, X_test, y_train, y_test = train_test_split(\n",
        "    X_nmf, cancer.target, random_state=1)\n",
        "\n",
        "print(LinearRegression()\n",
        "    .fit(X_train, y_train)\n",
        "    .score(X_test, y_test))\n",
        "\n",
        "print((KNeighborsClassifier()\n",
        "    .fit(X_train, y_train)\n",
        "    .score(X_test, y_test)))"
      ],
      "execution_count": null,
      "outputs": [
        {
          "output_type": "stream",
          "text": [
            "0.48745290456283197\n",
            "0.9370629370629371\n"
          ],
          "name": "stdout"
        }
      ]
    },
    {
      "cell_type": "markdown",
      "metadata": {
        "id": "UjFh-KcmWm1e"
      },
      "source": [
        "## LDA \n",
        "+ Bayesian generative probabilistic model for collections of discrete dataset\n",
        "+ such as text corpora. It is also \n",
        "+ a topic model that is used for discovering abstract topics from a collection of documents.\n"
      ]
    },
    {
      "cell_type": "code",
      "metadata": {
        "id": "xzxrS6A0Wm1e",
        "outputId": "af311a0b-f7be-499b-babc-a5c4a51cab72"
      },
      "source": [
        "from sklearn.decomposition import LatentDirichletAllocation\n",
        "\n",
        "lda = LatentDirichletAllocation(n_components=2)\n",
        "lda.fit(cancer.data)\n",
        "X_lda = lda.transform(cancer.data)\n",
        "\n",
        "print(\"Original shape: %s\" % str(cancer.data.shape))\n",
        "print(\"Reduced shape: %s\" % str(X_lda.shape))"
      ],
      "execution_count": null,
      "outputs": [
        {
          "output_type": "stream",
          "text": [
            "Original shape: (569, 30)\n",
            "Reduced shape: (569, 2)\n"
          ],
          "name": "stdout"
        }
      ]
    },
    {
      "cell_type": "code",
      "metadata": {
        "id": "4qFKu0BNWm1e",
        "outputId": "ab02c5f5-2bde-4188-d896-f7d8fcca4db6"
      },
      "source": [
        "X_train, X_test, y_train, y_test = train_test_split(\n",
        "    X_lda, cancer.target, random_state=1)\n",
        "\n",
        "print(LinearRegression()\n",
        "    .fit(X_train, y_train)\n",
        "    .score(X_test, y_test))\n",
        "\n",
        "print((KNeighborsClassifier()\n",
        "    .fit(X_train, y_train)\n",
        "    .score(X_test, y_test)))"
      ],
      "execution_count": null,
      "outputs": [
        {
          "output_type": "stream",
          "text": [
            "0.5211595015092328\n",
            "0.8741258741258742\n"
          ],
          "name": "stdout"
        }
      ]
    },
    {
      "cell_type": "markdown",
      "metadata": {
        "id": "p0TgXC59Wm1f"
      },
      "source": [
        "## ICA \n",
        "+ separates multivaraiate singal into additive subcomponents \n",
        "+ used to sepearte superimposed signals vs. dimension reduction \n",
        "\n",
        "## t-distributed Stochastic Neighbor Embedding\n",
        "+ visualize high-dimensional data \n",
        "+ good for seperating clusters after PCA"
      ]
    },
    {
      "cell_type": "markdown",
      "metadata": {
        "id": "4_cuicLwWm1f"
      },
      "source": [
        "## Feature Selection \n",
        "\n",
        "### Univariate KBest\n",
        "+ used on full dataset not just split"
      ]
    },
    {
      "cell_type": "code",
      "metadata": {
        "id": "o4-ll3IUWm1f",
        "outputId": "66dccd78-cd76-4a85-bab8-561ebe47a488"
      },
      "source": [
        "from sklearn.feature_selection import SelectKBest\n",
        "from sklearn.feature_selection import chi2\n",
        "\n",
        "selector = SelectKBest(chi2, k=5)\n",
        "\n",
        "X_new = selector.fit_transform(cancer.data, cancer.target)\n",
        "cancer.data.shape, X_new.shape"
      ],
      "execution_count": null,
      "outputs": [
        {
          "output_type": "execute_result",
          "data": {
            "text/plain": [
              "((569, 30), (569, 5))"
            ]
          },
          "metadata": {
            "tags": []
          },
          "execution_count": 70
        }
      ]
    },
    {
      "cell_type": "code",
      "metadata": {
        "id": "-6eEjqJ3Wm1f",
        "outputId": "cfdcb927-f355-434a-e198-73bdf0fa417d"
      },
      "source": [
        "# shows the top best through univariate filter\n",
        "\n",
        "kbest = pd.Series(selector.scores_, \n",
        "                  index=cancer.feature_names).sort_values(ascending=False)\n",
        "kbest.head(10) \n"
      ],
      "execution_count": null,
      "outputs": [
        {
          "output_type": "execute_result",
          "data": {
            "text/plain": [
              "worst area         112598.431564\n",
              "mean area           53991.655924\n",
              "area error           8758.504705\n",
              "worst perimeter      3665.035416\n",
              "mean perimeter       2011.102864\n",
              "worst radius          491.689157\n",
              "mean radius           266.104917\n",
              "perimeter error       250.571896\n",
              "worst texture         174.449400\n",
              "mean texture           93.897508\n",
              "dtype: float64"
            ]
          },
          "metadata": {
            "tags": []
          },
          "execution_count": 72
        }
      ]
    },
    {
      "cell_type": "code",
      "metadata": {
        "id": "46Kjnx6sWm1g",
        "outputId": "a1ce3eec-160c-4a0b-84a6-fee359c7c09d"
      },
      "source": [
        "X_train, X_test, y_train, y_test = train_test_split(\n",
        "    cancer.data, cancer.target, random_state=1)\n",
        "\n",
        "print(LinearRegression()\n",
        "    .fit(X_train, y_train)\n",
        "    .score(X_test, y_test))\n",
        "print((KNeighborsClassifier()\n",
        "    .fit(X_train, y_train)\n",
        "    .score(X_test, y_test)))"
      ],
      "execution_count": null,
      "outputs": [
        {
          "output_type": "stream",
          "text": [
            "0.7222686011972117\n",
            "0.9370629370629371\n"
          ],
          "name": "stdout"
        }
      ]
    },
    {
      "cell_type": "code",
      "metadata": {
        "id": "UgAt6zCrWm1g",
        "outputId": "11a2eb8e-b508-40df-8a36-d0fa856787f6"
      },
      "source": [
        "# not better than before \n",
        "X_train, X_test, y_train, y_test = train_test_split(\n",
        "    X_new, cancer.target, random_state=1)\n",
        "\n",
        "print(LinearRegression()\n",
        "    .fit(X_train, y_train)\n",
        "    .score(X_test, y_test))\n",
        "print((KNeighborsClassifier()\n",
        "    .fit(X_train, y_train)\n",
        "    .score(X_test, y_test)))"
      ],
      "execution_count": null,
      "outputs": [
        {
          "output_type": "stream",
          "text": [
            "0.5857835011372032\n",
            "0.9230769230769231\n"
          ],
          "name": "stdout"
        }
      ]
    },
    {
      "cell_type": "markdown",
      "metadata": {
        "id": "aBhL4oK3Wm1h"
      },
      "source": [
        "## Recursive feature elimination"
      ]
    },
    {
      "cell_type": "code",
      "metadata": {
        "id": "dT14Qt-0Wm1h",
        "outputId": "086eeb99-a6bc-4bab-b35b-0fda5d2f3154"
      },
      "source": [
        "from sklearn.feature_selection import RFE\n",
        "\n",
        "lr = LinearRegression()\n",
        "rfe = RFE(estimator=lr, n_features_to_select=5, step=1)\n",
        "rfe.fit(cancer.data, cancer.target)\n",
        "\n",
        "pd.Series(rfe.ranking_, \n",
        "          index=cancer.feature_names).sort_values(ascending=False).head(10)\n",
        "\n"
      ],
      "execution_count": null,
      "outputs": [
        {
          "output_type": "execute_result",
          "data": {
            "text/plain": [
              "mean area            26\n",
              "worst area           25\n",
              "mean texture         24\n",
              "area error           23\n",
              "worst perimeter      22\n",
              "texture error        21\n",
              "worst texture        20\n",
              "worst compactness    19\n",
              "mean perimeter       18\n",
              "mean radius          17\n",
              "dtype: int64"
            ]
          },
          "metadata": {
            "tags": []
          },
          "execution_count": 76
        }
      ]
    },
    {
      "cell_type": "code",
      "metadata": {
        "id": "b7BHQ0T6Wm1i",
        "outputId": "ce439215-0106-4abd-e2cf-498286113716"
      },
      "source": [
        "import matplotlib.pyplot as plt\n",
        "from sklearn.ensemble import RandomForestClassifier\n",
        "from sklearn.feature_selection import RFECV # includes cross validation \n",
        "\n",
        "rf = RandomForestClassifier(max_depth=7, random_state=1)\n",
        "rfecv = RFECV(estimator=rf)\n",
        "rfecv.fit(cancer.data, cancer.target)\n",
        "\n",
        "rfecv.n_features_"
      ],
      "execution_count": null,
      "outputs": [
        {
          "output_type": "execute_result",
          "data": {
            "text/plain": [
              "19"
            ]
          },
          "metadata": {
            "tags": []
          },
          "execution_count": 80
        }
      ]
    },
    {
      "cell_type": "markdown",
      "metadata": {
        "id": "3okdgjHnWm1i"
      },
      "source": [
        "## Dimensionality Expansion - Polynomial\n",
        " "
      ]
    },
    {
      "cell_type": "code",
      "metadata": {
        "id": "D0cdUP81Wm1i",
        "outputId": "fbbac4d6-2101-4712-a7ae-adf90f4e3b20"
      },
      "source": [
        "from sklearn.preprocessing import PolynomialFeatures\n",
        "poly = PolynomialFeatures(2) # good number to start with \n",
        "\n",
        "X_poly = poly.fit_transform(cancer.data)\n",
        "cancer.data.shape, X_poly.shape # increases nearly square"
      ],
      "execution_count": null,
      "outputs": [
        {
          "output_type": "execute_result",
          "data": {
            "text/plain": [
              "((569, 30), (569, 496))"
            ]
          },
          "metadata": {
            "tags": []
          },
          "execution_count": 81
        }
      ]
    },
    {
      "cell_type": "code",
      "metadata": {
        "id": "ofEjiPN9Wm1i",
        "outputId": "a7420911-09c1-4e43-81d6-b6c2b0033fd2"
      },
      "source": [
        "poly_names = poly.get_feature_names(cancer.feature_names)\n",
        "\n",
        "pd.DataFrame(X_poly, columns=poly_names).head()"
      ],
      "execution_count": null,
      "outputs": [
        {
          "output_type": "execute_result",
          "data": {
            "text/html": [
              "<div>\n",
              "<style scoped>\n",
              "    .dataframe tbody tr th:only-of-type {\n",
              "        vertical-align: middle;\n",
              "    }\n",
              "\n",
              "    .dataframe tbody tr th {\n",
              "        vertical-align: top;\n",
              "    }\n",
              "\n",
              "    .dataframe thead th {\n",
              "        text-align: right;\n",
              "    }\n",
              "</style>\n",
              "<table border=\"1\" class=\"dataframe\">\n",
              "  <thead>\n",
              "    <tr style=\"text-align: right;\">\n",
              "      <th></th>\n",
              "      <th>1</th>\n",
              "      <th>mean radius</th>\n",
              "      <th>mean texture</th>\n",
              "      <th>mean perimeter</th>\n",
              "      <th>mean area</th>\n",
              "      <th>mean smoothness</th>\n",
              "      <th>mean compactness</th>\n",
              "      <th>mean concavity</th>\n",
              "      <th>mean concave points</th>\n",
              "      <th>mean symmetry</th>\n",
              "      <th>...</th>\n",
              "      <th>worst concavity^2</th>\n",
              "      <th>worst concavity worst concave points</th>\n",
              "      <th>worst concavity worst symmetry</th>\n",
              "      <th>worst concavity worst fractal dimension</th>\n",
              "      <th>worst concave points^2</th>\n",
              "      <th>worst concave points worst symmetry</th>\n",
              "      <th>worst concave points worst fractal dimension</th>\n",
              "      <th>worst symmetry^2</th>\n",
              "      <th>worst symmetry worst fractal dimension</th>\n",
              "      <th>worst fractal dimension^2</th>\n",
              "    </tr>\n",
              "  </thead>\n",
              "  <tbody>\n",
              "    <tr>\n",
              "      <th>0</th>\n",
              "      <td>1.0</td>\n",
              "      <td>17.99</td>\n",
              "      <td>10.38</td>\n",
              "      <td>122.80</td>\n",
              "      <td>1001.0</td>\n",
              "      <td>0.11840</td>\n",
              "      <td>0.27760</td>\n",
              "      <td>0.3001</td>\n",
              "      <td>0.14710</td>\n",
              "      <td>0.2419</td>\n",
              "      <td>...</td>\n",
              "      <td>0.506802</td>\n",
              "      <td>0.188938</td>\n",
              "      <td>0.327545</td>\n",
              "      <td>0.084645</td>\n",
              "      <td>0.070437</td>\n",
              "      <td>0.122111</td>\n",
              "      <td>0.031556</td>\n",
              "      <td>0.211692</td>\n",
              "      <td>0.054706</td>\n",
              "      <td>0.014137</td>\n",
              "    </tr>\n",
              "    <tr>\n",
              "      <th>1</th>\n",
              "      <td>1.0</td>\n",
              "      <td>20.57</td>\n",
              "      <td>17.77</td>\n",
              "      <td>132.90</td>\n",
              "      <td>1326.0</td>\n",
              "      <td>0.08474</td>\n",
              "      <td>0.07864</td>\n",
              "      <td>0.0869</td>\n",
              "      <td>0.07017</td>\n",
              "      <td>0.1812</td>\n",
              "      <td>...</td>\n",
              "      <td>0.058371</td>\n",
              "      <td>0.044938</td>\n",
              "      <td>0.066440</td>\n",
              "      <td>0.021507</td>\n",
              "      <td>0.034596</td>\n",
              "      <td>0.051150</td>\n",
              "      <td>0.016558</td>\n",
              "      <td>0.075625</td>\n",
              "      <td>0.024481</td>\n",
              "      <td>0.007925</td>\n",
              "    </tr>\n",
              "    <tr>\n",
              "      <th>2</th>\n",
              "      <td>1.0</td>\n",
              "      <td>19.69</td>\n",
              "      <td>21.25</td>\n",
              "      <td>130.00</td>\n",
              "      <td>1203.0</td>\n",
              "      <td>0.10960</td>\n",
              "      <td>0.15990</td>\n",
              "      <td>0.1974</td>\n",
              "      <td>0.12790</td>\n",
              "      <td>0.2069</td>\n",
              "      <td>...</td>\n",
              "      <td>0.202860</td>\n",
              "      <td>0.109447</td>\n",
              "      <td>0.162730</td>\n",
              "      <td>0.039446</td>\n",
              "      <td>0.059049</td>\n",
              "      <td>0.087796</td>\n",
              "      <td>0.021282</td>\n",
              "      <td>0.130538</td>\n",
              "      <td>0.031643</td>\n",
              "      <td>0.007670</td>\n",
              "    </tr>\n",
              "    <tr>\n",
              "      <th>3</th>\n",
              "      <td>1.0</td>\n",
              "      <td>11.42</td>\n",
              "      <td>20.38</td>\n",
              "      <td>77.58</td>\n",
              "      <td>386.1</td>\n",
              "      <td>0.14250</td>\n",
              "      <td>0.28390</td>\n",
              "      <td>0.2414</td>\n",
              "      <td>0.10520</td>\n",
              "      <td>0.2597</td>\n",
              "      <td>...</td>\n",
              "      <td>0.471832</td>\n",
              "      <td>0.176877</td>\n",
              "      <td>0.455964</td>\n",
              "      <td>0.118834</td>\n",
              "      <td>0.066306</td>\n",
              "      <td>0.170928</td>\n",
              "      <td>0.044547</td>\n",
              "      <td>0.440630</td>\n",
              "      <td>0.114837</td>\n",
              "      <td>0.029929</td>\n",
              "    </tr>\n",
              "    <tr>\n",
              "      <th>4</th>\n",
              "      <td>1.0</td>\n",
              "      <td>20.29</td>\n",
              "      <td>14.34</td>\n",
              "      <td>135.10</td>\n",
              "      <td>1297.0</td>\n",
              "      <td>0.10030</td>\n",
              "      <td>0.13280</td>\n",
              "      <td>0.1980</td>\n",
              "      <td>0.10430</td>\n",
              "      <td>0.1809</td>\n",
              "      <td>...</td>\n",
              "      <td>0.160000</td>\n",
              "      <td>0.065000</td>\n",
              "      <td>0.094560</td>\n",
              "      <td>0.030712</td>\n",
              "      <td>0.026406</td>\n",
              "      <td>0.038415</td>\n",
              "      <td>0.012477</td>\n",
              "      <td>0.055885</td>\n",
              "      <td>0.018151</td>\n",
              "      <td>0.005895</td>\n",
              "    </tr>\n",
              "  </tbody>\n",
              "</table>\n",
              "<p>5 rows × 496 columns</p>\n",
              "</div>"
            ],
            "text/plain": [
              "     1  mean radius  mean texture  mean perimeter  mean area  mean smoothness  \\\n",
              "0  1.0        17.99         10.38          122.80     1001.0          0.11840   \n",
              "1  1.0        20.57         17.77          132.90     1326.0          0.08474   \n",
              "2  1.0        19.69         21.25          130.00     1203.0          0.10960   \n",
              "3  1.0        11.42         20.38           77.58      386.1          0.14250   \n",
              "4  1.0        20.29         14.34          135.10     1297.0          0.10030   \n",
              "\n",
              "   mean compactness  mean concavity  mean concave points  mean symmetry  ...  \\\n",
              "0           0.27760          0.3001              0.14710         0.2419  ...   \n",
              "1           0.07864          0.0869              0.07017         0.1812  ...   \n",
              "2           0.15990          0.1974              0.12790         0.2069  ...   \n",
              "3           0.28390          0.2414              0.10520         0.2597  ...   \n",
              "4           0.13280          0.1980              0.10430         0.1809  ...   \n",
              "\n",
              "   worst concavity^2  worst concavity worst concave points  \\\n",
              "0           0.506802                              0.188938   \n",
              "1           0.058371                              0.044938   \n",
              "2           0.202860                              0.109447   \n",
              "3           0.471832                              0.176877   \n",
              "4           0.160000                              0.065000   \n",
              "\n",
              "   worst concavity worst symmetry  worst concavity worst fractal dimension  \\\n",
              "0                        0.327545                                 0.084645   \n",
              "1                        0.066440                                 0.021507   \n",
              "2                        0.162730                                 0.039446   \n",
              "3                        0.455964                                 0.118834   \n",
              "4                        0.094560                                 0.030712   \n",
              "\n",
              "   worst concave points^2  worst concave points worst symmetry  \\\n",
              "0                0.070437                             0.122111   \n",
              "1                0.034596                             0.051150   \n",
              "2                0.059049                             0.087796   \n",
              "3                0.066306                             0.170928   \n",
              "4                0.026406                             0.038415   \n",
              "\n",
              "   worst concave points worst fractal dimension  worst symmetry^2  \\\n",
              "0                                      0.031556          0.211692   \n",
              "1                                      0.016558          0.075625   \n",
              "2                                      0.021282          0.130538   \n",
              "3                                      0.044547          0.440630   \n",
              "4                                      0.012477          0.055885   \n",
              "\n",
              "   worst symmetry worst fractal dimension  worst fractal dimension^2  \n",
              "0                                0.054706                   0.014137  \n",
              "1                                0.024481                   0.007925  \n",
              "2                                0.031643                   0.007670  \n",
              "3                                0.114837                   0.029929  \n",
              "4                                0.018151                   0.005895  \n",
              "\n",
              "[5 rows x 496 columns]"
            ]
          },
          "metadata": {
            "tags": []
          },
          "execution_count": 82
        }
      ]
    },
    {
      "cell_type": "code",
      "metadata": {
        "id": "litMgCoaWm1j",
        "outputId": "aba6c783-75f3-49a4-95aa-b13e33f655e2"
      },
      "source": [
        "# use RFE with random forest\n",
        "rfc = RandomForestClassifier(max_depth=7, random_state=1)\n",
        "rfe = RFE(estimator=rfc, n_features_to_select=50, step=1)\n",
        "\n",
        "X_poly_top = rfe.fit_transform(X_poly, cancer.target)\n",
        "\n",
        "X_poly_top.shape"
      ],
      "execution_count": null,
      "outputs": [
        {
          "output_type": "execute_result",
          "data": {
            "text/plain": [
              "(569, 50)"
            ]
          },
          "metadata": {
            "tags": []
          },
          "execution_count": 84
        }
      ]
    },
    {
      "cell_type": "code",
      "metadata": {
        "id": "FsyPt_z3Wm1j",
        "outputId": "f6215327-be98-4d73-eb04-b7905b47d912"
      },
      "source": [
        "# top 5 reduced \n",
        "pd.Series(rfe.ranking_, index=poly_names).sort_values(ascending=False).head(5)\n",
        "\n"
      ],
      "execution_count": null,
      "outputs": [
        {
          "output_type": "execute_result",
          "data": {
            "text/plain": [
              "1                                    447\n",
              "mean radius                          446\n",
              "mean compactness^2                   445\n",
              "radius error concave points error    444\n",
              "perimeter error worst symmetry       443\n",
              "dtype: int64"
            ]
          },
          "metadata": {
            "tags": []
          },
          "execution_count": 85
        }
      ]
    },
    {
      "cell_type": "code",
      "metadata": {
        "id": "0kmA1vcBWm1j",
        "outputId": "87911d3e-9eff-4345-dc2f-01c57953349a"
      },
      "source": [
        "# Scale the engineered features (makes little difference for this model, but is good practice)\n",
        "X_poly_top_scaled = StandardScaler().fit_transform(X_poly)\n",
        "\n",
        "X_train, X_test, y_train, y_test = train_test_split(\n",
        "    X_poly_top_scaled, cancer.target, random_state=42)\n",
        "\n",
        "rfc.fit(X_train, y_train).score(X_test, y_test)"
      ],
      "execution_count": null,
      "outputs": [
        {
          "output_type": "execute_result",
          "data": {
            "text/plain": [
              "0.9790209790209791"
            ]
          },
          "metadata": {
            "tags": []
          },
          "execution_count": 86
        }
      ]
    },
    {
      "cell_type": "markdown",
      "metadata": {
        "id": "r24gnPdxWm1k"
      },
      "source": [
        "### One-Hot Encoding\n",
        "\n",
        "We have looked in previous lessons at the need to encode categorical values in **one-hot encoding**.  That is, we might have one feature with a a number of class values encoded in it.  For many models, this is either better quality—or simply required for the code to operate—than trying to use the class labels.  In some cases, integer values might work algorithmically, but will distort the training by being interpreted in a quantitative or ordinal way.\n",
        "\n",
        "The interfaces provided by scikit-learn are servicable, but somewhat awkward.  `sklearn.preprocessing.LabelBinarizer` does almost what you want in some cases, but doesn't expose the clearest API.  The same can be said of `sklearn.preprocessing.OneHotEncoder` and `sklearn.preprocessing.LabelEncoder` and a couple others.  I simply recommend using `pandas.get_dummies()` in place of these others.  The result will be the same, in any case.\n",
        "\n",
        "Let us look at a small toy example with catgorical data."
      ]
    },
    {
      "cell_type": "code",
      "metadata": {
        "id": "Ib1MyVdWWm1k",
        "outputId": "04a85db3-9708-4c05-e555-4d3a31419fca"
      },
      "source": [
        "import pandas as pd\n",
        "pets = pd.read_csv('mlrefs/data/pets.csv')\n",
        "pets\n"
      ],
      "execution_count": null,
      "outputs": [
        {
          "output_type": "execute_result",
          "data": {
            "text/html": [
              "<div>\n",
              "<style scoped>\n",
              "    .dataframe tbody tr th:only-of-type {\n",
              "        vertical-align: middle;\n",
              "    }\n",
              "\n",
              "    .dataframe tbody tr th {\n",
              "        vertical-align: top;\n",
              "    }\n",
              "\n",
              "    .dataframe thead th {\n",
              "        text-align: right;\n",
              "    }\n",
              "</style>\n",
              "<table border=\"1\" class=\"dataframe\">\n",
              "  <thead>\n",
              "    <tr style=\"text-align: right;\">\n",
              "      <th></th>\n",
              "      <th>species</th>\n",
              "      <th>sex</th>\n",
              "    </tr>\n",
              "  </thead>\n",
              "  <tbody>\n",
              "    <tr>\n",
              "      <th>0</th>\n",
              "      <td>cat</td>\n",
              "      <td>M</td>\n",
              "    </tr>\n",
              "    <tr>\n",
              "      <th>1</th>\n",
              "      <td>dog</td>\n",
              "      <td>F</td>\n",
              "    </tr>\n",
              "    <tr>\n",
              "      <th>2</th>\n",
              "      <td>fish</td>\n",
              "      <td>M</td>\n",
              "    </tr>\n",
              "    <tr>\n",
              "      <th>3</th>\n",
              "      <td>dog</td>\n",
              "      <td>M</td>\n",
              "    </tr>\n",
              "    <tr>\n",
              "      <th>4</th>\n",
              "      <td>dog</td>\n",
              "      <td>F</td>\n",
              "    </tr>\n",
              "    <tr>\n",
              "      <th>5</th>\n",
              "      <td>cat</td>\n",
              "      <td>M</td>\n",
              "    </tr>\n",
              "    <tr>\n",
              "      <th>6</th>\n",
              "      <td>fish</td>\n",
              "      <td>M</td>\n",
              "    </tr>\n",
              "    <tr>\n",
              "      <th>7</th>\n",
              "      <td>fish</td>\n",
              "      <td>F</td>\n",
              "    </tr>\n",
              "  </tbody>\n",
              "</table>\n",
              "</div>"
            ],
            "text/plain": [
              "  species sex\n",
              "0     cat   M\n",
              "1     dog   F\n",
              "2    fish   M\n",
              "3     dog   M\n",
              "4     dog   F\n",
              "5     cat   M\n",
              "6    fish   M\n",
              "7    fish   F"
            ]
          },
          "metadata": {
            "tags": []
          },
          "execution_count": 100
        }
      ]
    },
    {
      "cell_type": "code",
      "metadata": {
        "id": "sX_OewPLWm1k",
        "outputId": "fc1c2f53-85e5-4a3e-95cd-3b8f84b432af"
      },
      "source": [
        "pd.get_dummies(pets)"
      ],
      "execution_count": null,
      "outputs": [
        {
          "output_type": "execute_result",
          "data": {
            "text/html": [
              "<div>\n",
              "<style scoped>\n",
              "    .dataframe tbody tr th:only-of-type {\n",
              "        vertical-align: middle;\n",
              "    }\n",
              "\n",
              "    .dataframe tbody tr th {\n",
              "        vertical-align: top;\n",
              "    }\n",
              "\n",
              "    .dataframe thead th {\n",
              "        text-align: right;\n",
              "    }\n",
              "</style>\n",
              "<table border=\"1\" class=\"dataframe\">\n",
              "  <thead>\n",
              "    <tr style=\"text-align: right;\">\n",
              "      <th></th>\n",
              "      <th>species_cat</th>\n",
              "      <th>species_dog</th>\n",
              "      <th>species_fish</th>\n",
              "      <th>sex_F</th>\n",
              "      <th>sex_M</th>\n",
              "    </tr>\n",
              "  </thead>\n",
              "  <tbody>\n",
              "    <tr>\n",
              "      <th>0</th>\n",
              "      <td>1</td>\n",
              "      <td>0</td>\n",
              "      <td>0</td>\n",
              "      <td>0</td>\n",
              "      <td>1</td>\n",
              "    </tr>\n",
              "    <tr>\n",
              "      <th>1</th>\n",
              "      <td>0</td>\n",
              "      <td>1</td>\n",
              "      <td>0</td>\n",
              "      <td>1</td>\n",
              "      <td>0</td>\n",
              "    </tr>\n",
              "    <tr>\n",
              "      <th>2</th>\n",
              "      <td>0</td>\n",
              "      <td>0</td>\n",
              "      <td>1</td>\n",
              "      <td>0</td>\n",
              "      <td>1</td>\n",
              "    </tr>\n",
              "    <tr>\n",
              "      <th>3</th>\n",
              "      <td>0</td>\n",
              "      <td>1</td>\n",
              "      <td>0</td>\n",
              "      <td>0</td>\n",
              "      <td>1</td>\n",
              "    </tr>\n",
              "    <tr>\n",
              "      <th>4</th>\n",
              "      <td>0</td>\n",
              "      <td>1</td>\n",
              "      <td>0</td>\n",
              "      <td>1</td>\n",
              "      <td>0</td>\n",
              "    </tr>\n",
              "    <tr>\n",
              "      <th>5</th>\n",
              "      <td>1</td>\n",
              "      <td>0</td>\n",
              "      <td>0</td>\n",
              "      <td>0</td>\n",
              "      <td>1</td>\n",
              "    </tr>\n",
              "    <tr>\n",
              "      <th>6</th>\n",
              "      <td>0</td>\n",
              "      <td>0</td>\n",
              "      <td>1</td>\n",
              "      <td>0</td>\n",
              "      <td>1</td>\n",
              "    </tr>\n",
              "    <tr>\n",
              "      <th>7</th>\n",
              "      <td>0</td>\n",
              "      <td>0</td>\n",
              "      <td>1</td>\n",
              "      <td>1</td>\n",
              "      <td>0</td>\n",
              "    </tr>\n",
              "  </tbody>\n",
              "</table>\n",
              "</div>"
            ],
            "text/plain": [
              "   species_cat  species_dog  species_fish  sex_F  sex_M\n",
              "0            1            0             0      0      1\n",
              "1            0            1             0      1      0\n",
              "2            0            0             1      0      1\n",
              "3            0            1             0      0      1\n",
              "4            0            1             0      1      0\n",
              "5            1            0             0      0      1\n",
              "6            0            0             1      0      1\n",
              "7            0            0             1      1      0"
            ]
          },
          "metadata": {
            "tags": []
          },
          "execution_count": 101
        }
      ]
    },
    {
      "cell_type": "code",
      "metadata": {
        "id": "KBWAaIZrWm1k",
        "outputId": "093f03da-ea00-41ef-e1c8-9864a059afe6"
      },
      "source": [
        "from sklearn.preprocessing import OneHotEncoder\n",
        "enc = OneHotEncoder()\n",
        "\n",
        "enc.fit(pets)\n",
        "\n",
        "one_hot_pets = enc.transform(pets)\n",
        "\n",
        "columns = enc.get_feature_names()\n",
        "\n",
        "pd.DataFrame(one_hot_pets.toarray(), columns=columns)"
      ],
      "execution_count": null,
      "outputs": [
        {
          "output_type": "execute_result",
          "data": {
            "text/html": [
              "<div>\n",
              "<style scoped>\n",
              "    .dataframe tbody tr th:only-of-type {\n",
              "        vertical-align: middle;\n",
              "    }\n",
              "\n",
              "    .dataframe tbody tr th {\n",
              "        vertical-align: top;\n",
              "    }\n",
              "\n",
              "    .dataframe thead th {\n",
              "        text-align: right;\n",
              "    }\n",
              "</style>\n",
              "<table border=\"1\" class=\"dataframe\">\n",
              "  <thead>\n",
              "    <tr style=\"text-align: right;\">\n",
              "      <th></th>\n",
              "      <th>x0_cat</th>\n",
              "      <th>x0_dog</th>\n",
              "      <th>x0_fish</th>\n",
              "      <th>x1_F</th>\n",
              "      <th>x1_M</th>\n",
              "    </tr>\n",
              "  </thead>\n",
              "  <tbody>\n",
              "    <tr>\n",
              "      <th>0</th>\n",
              "      <td>1.0</td>\n",
              "      <td>0.0</td>\n",
              "      <td>0.0</td>\n",
              "      <td>0.0</td>\n",
              "      <td>1.0</td>\n",
              "    </tr>\n",
              "    <tr>\n",
              "      <th>1</th>\n",
              "      <td>0.0</td>\n",
              "      <td>1.0</td>\n",
              "      <td>0.0</td>\n",
              "      <td>1.0</td>\n",
              "      <td>0.0</td>\n",
              "    </tr>\n",
              "    <tr>\n",
              "      <th>2</th>\n",
              "      <td>0.0</td>\n",
              "      <td>0.0</td>\n",
              "      <td>1.0</td>\n",
              "      <td>0.0</td>\n",
              "      <td>1.0</td>\n",
              "    </tr>\n",
              "    <tr>\n",
              "      <th>3</th>\n",
              "      <td>0.0</td>\n",
              "      <td>1.0</td>\n",
              "      <td>0.0</td>\n",
              "      <td>0.0</td>\n",
              "      <td>1.0</td>\n",
              "    </tr>\n",
              "    <tr>\n",
              "      <th>4</th>\n",
              "      <td>0.0</td>\n",
              "      <td>1.0</td>\n",
              "      <td>0.0</td>\n",
              "      <td>1.0</td>\n",
              "      <td>0.0</td>\n",
              "    </tr>\n",
              "    <tr>\n",
              "      <th>5</th>\n",
              "      <td>1.0</td>\n",
              "      <td>0.0</td>\n",
              "      <td>0.0</td>\n",
              "      <td>0.0</td>\n",
              "      <td>1.0</td>\n",
              "    </tr>\n",
              "    <tr>\n",
              "      <th>6</th>\n",
              "      <td>0.0</td>\n",
              "      <td>0.0</td>\n",
              "      <td>1.0</td>\n",
              "      <td>0.0</td>\n",
              "      <td>1.0</td>\n",
              "    </tr>\n",
              "    <tr>\n",
              "      <th>7</th>\n",
              "      <td>0.0</td>\n",
              "      <td>0.0</td>\n",
              "      <td>1.0</td>\n",
              "      <td>1.0</td>\n",
              "      <td>0.0</td>\n",
              "    </tr>\n",
              "  </tbody>\n",
              "</table>\n",
              "</div>"
            ],
            "text/plain": [
              "   x0_cat  x0_dog  x0_fish  x1_F  x1_M\n",
              "0     1.0     0.0      0.0   0.0   1.0\n",
              "1     0.0     1.0      0.0   1.0   0.0\n",
              "2     0.0     0.0      1.0   0.0   1.0\n",
              "3     0.0     1.0      0.0   0.0   1.0\n",
              "4     0.0     1.0      0.0   1.0   0.0\n",
              "5     1.0     0.0      0.0   0.0   1.0\n",
              "6     0.0     0.0      1.0   0.0   1.0\n",
              "7     0.0     0.0      1.0   1.0   0.0"
            ]
          },
          "metadata": {
            "tags": []
          },
          "execution_count": 114
        }
      ]
    },
    {
      "cell_type": "code",
      "metadata": {
        "id": "sWd0JdurWm1l",
        "outputId": "611b7679-96e7-4508-a25b-ed482e185ea3"
      },
      "source": [
        "# simplier form for one hot\n",
        "one_hot_pets = enc.fit_transform(pets)\n",
        "\n",
        "pd.DataFrame(one_hot_pets.toarray(), columns=enc.get_feature_names())"
      ],
      "execution_count": null,
      "outputs": [
        {
          "output_type": "execute_result",
          "data": {
            "text/html": [
              "<div>\n",
              "<style scoped>\n",
              "    .dataframe tbody tr th:only-of-type {\n",
              "        vertical-align: middle;\n",
              "    }\n",
              "\n",
              "    .dataframe tbody tr th {\n",
              "        vertical-align: top;\n",
              "    }\n",
              "\n",
              "    .dataframe thead th {\n",
              "        text-align: right;\n",
              "    }\n",
              "</style>\n",
              "<table border=\"1\" class=\"dataframe\">\n",
              "  <thead>\n",
              "    <tr style=\"text-align: right;\">\n",
              "      <th></th>\n",
              "      <th>x0_cat</th>\n",
              "      <th>x0_dog</th>\n",
              "      <th>x0_fish</th>\n",
              "      <th>x1_F</th>\n",
              "      <th>x1_M</th>\n",
              "    </tr>\n",
              "  </thead>\n",
              "  <tbody>\n",
              "    <tr>\n",
              "      <th>0</th>\n",
              "      <td>1.0</td>\n",
              "      <td>0.0</td>\n",
              "      <td>0.0</td>\n",
              "      <td>0.0</td>\n",
              "      <td>1.0</td>\n",
              "    </tr>\n",
              "    <tr>\n",
              "      <th>1</th>\n",
              "      <td>0.0</td>\n",
              "      <td>1.0</td>\n",
              "      <td>0.0</td>\n",
              "      <td>1.0</td>\n",
              "      <td>0.0</td>\n",
              "    </tr>\n",
              "    <tr>\n",
              "      <th>2</th>\n",
              "      <td>0.0</td>\n",
              "      <td>0.0</td>\n",
              "      <td>1.0</td>\n",
              "      <td>0.0</td>\n",
              "      <td>1.0</td>\n",
              "    </tr>\n",
              "    <tr>\n",
              "      <th>3</th>\n",
              "      <td>0.0</td>\n",
              "      <td>1.0</td>\n",
              "      <td>0.0</td>\n",
              "      <td>0.0</td>\n",
              "      <td>1.0</td>\n",
              "    </tr>\n",
              "    <tr>\n",
              "      <th>4</th>\n",
              "      <td>0.0</td>\n",
              "      <td>1.0</td>\n",
              "      <td>0.0</td>\n",
              "      <td>1.0</td>\n",
              "      <td>0.0</td>\n",
              "    </tr>\n",
              "    <tr>\n",
              "      <th>5</th>\n",
              "      <td>1.0</td>\n",
              "      <td>0.0</td>\n",
              "      <td>0.0</td>\n",
              "      <td>0.0</td>\n",
              "      <td>1.0</td>\n",
              "    </tr>\n",
              "    <tr>\n",
              "      <th>6</th>\n",
              "      <td>0.0</td>\n",
              "      <td>0.0</td>\n",
              "      <td>1.0</td>\n",
              "      <td>0.0</td>\n",
              "      <td>1.0</td>\n",
              "    </tr>\n",
              "    <tr>\n",
              "      <th>7</th>\n",
              "      <td>0.0</td>\n",
              "      <td>0.0</td>\n",
              "      <td>1.0</td>\n",
              "      <td>1.0</td>\n",
              "      <td>0.0</td>\n",
              "    </tr>\n",
              "  </tbody>\n",
              "</table>\n",
              "</div>"
            ],
            "text/plain": [
              "   x0_cat  x0_dog  x0_fish  x1_F  x1_M\n",
              "0     1.0     0.0      0.0   0.0   1.0\n",
              "1     0.0     1.0      0.0   1.0   0.0\n",
              "2     0.0     0.0      1.0   0.0   1.0\n",
              "3     0.0     1.0      0.0   0.0   1.0\n",
              "4     0.0     1.0      0.0   1.0   0.0\n",
              "5     1.0     0.0      0.0   0.0   1.0\n",
              "6     0.0     0.0      1.0   0.0   1.0\n",
              "7     0.0     0.0      1.0   1.0   0.0"
            ]
          },
          "metadata": {
            "tags": []
          },
          "execution_count": 119
        }
      ]
    },
    {
      "cell_type": "markdown",
      "metadata": {
        "id": "h-58A37oWm1l"
      },
      "source": [
        "## DictVectorizer"
      ]
    },
    {
      "cell_type": "code",
      "metadata": {
        "id": "mMqqY0_3Wm1l"
      },
      "source": [
        "data = [\n",
        "    {'price': 850000, 'rooms': 4, 'neighborhood': 'Queen Anne'},\n",
        "    {'price': 700000, 'rooms': 3, 'neighborhood': 'Fremont'},\n",
        "    {'price': 650000, 'rooms': 3, 'neighborhood': 'Wallingford'},\n",
        "    {'price': 600000, 'rooms': 2, 'neighborhood': 'Fremont'}\n",
        "]"
      ],
      "execution_count": null,
      "outputs": []
    },
    {
      "cell_type": "code",
      "metadata": {
        "id": "Lpgc7dIJWm1l",
        "outputId": "acf73509-a387-45fe-cd3b-5edbd1f90cea"
      },
      "source": [
        "from sklearn.feature_extraction import DictVectorizer\n",
        "vec = DictVectorizer(sparse=False, dtype=int) # defaults to compressed float, good for larger dataset\n",
        "vec.fit_transform(data)"
      ],
      "execution_count": null,
      "outputs": [
        {
          "output_type": "execute_result",
          "data": {
            "text/plain": [
              "array([[     0,      1,      0, 850000,      4],\n",
              "       [     1,      0,      0, 700000,      3],\n",
              "       [     0,      0,      1, 650000,      3],\n",
              "       [     1,      0,      0, 600000,      2]], dtype=int64)"
            ]
          },
          "metadata": {
            "tags": []
          },
          "execution_count": 130
        }
      ]
    },
    {
      "cell_type": "code",
      "metadata": {
        "id": "b2zUjTRsWm1l",
        "outputId": "69fe4821-32ea-4510-f1cf-11e6e412813c"
      },
      "source": [
        "vec.get_feature_names()"
      ],
      "execution_count": null,
      "outputs": [
        {
          "output_type": "execute_result",
          "data": {
            "text/plain": [
              "['neighborhood=Fremont',\n",
              " 'neighborhood=Queen Anne',\n",
              " 'neighborhood=Wallingford',\n",
              " 'price',\n",
              " 'rooms']"
            ]
          },
          "metadata": {
            "tags": []
          },
          "execution_count": 126
        }
      ]
    },
    {
      "cell_type": "code",
      "metadata": {
        "id": "d9rRQB8WWm1m",
        "outputId": "ce143470-a380-4fa4-e662-f35ee5b87da4"
      },
      "source": [
        "pd.DataFrame(vec.fit_transform(data),\n",
        "             columns=vec.get_feature_names())"
      ],
      "execution_count": null,
      "outputs": [
        {
          "output_type": "execute_result",
          "data": {
            "text/html": [
              "<div>\n",
              "<style scoped>\n",
              "    .dataframe tbody tr th:only-of-type {\n",
              "        vertical-align: middle;\n",
              "    }\n",
              "\n",
              "    .dataframe tbody tr th {\n",
              "        vertical-align: top;\n",
              "    }\n",
              "\n",
              "    .dataframe thead th {\n",
              "        text-align: right;\n",
              "    }\n",
              "</style>\n",
              "<table border=\"1\" class=\"dataframe\">\n",
              "  <thead>\n",
              "    <tr style=\"text-align: right;\">\n",
              "      <th></th>\n",
              "      <th>neighborhood=Fremont</th>\n",
              "      <th>neighborhood=Queen Anne</th>\n",
              "      <th>neighborhood=Wallingford</th>\n",
              "      <th>price</th>\n",
              "      <th>rooms</th>\n",
              "    </tr>\n",
              "  </thead>\n",
              "  <tbody>\n",
              "    <tr>\n",
              "      <th>0</th>\n",
              "      <td>0</td>\n",
              "      <td>1</td>\n",
              "      <td>0</td>\n",
              "      <td>850000</td>\n",
              "      <td>4</td>\n",
              "    </tr>\n",
              "    <tr>\n",
              "      <th>1</th>\n",
              "      <td>1</td>\n",
              "      <td>0</td>\n",
              "      <td>0</td>\n",
              "      <td>700000</td>\n",
              "      <td>3</td>\n",
              "    </tr>\n",
              "    <tr>\n",
              "      <th>2</th>\n",
              "      <td>0</td>\n",
              "      <td>0</td>\n",
              "      <td>1</td>\n",
              "      <td>650000</td>\n",
              "      <td>3</td>\n",
              "    </tr>\n",
              "    <tr>\n",
              "      <th>3</th>\n",
              "      <td>1</td>\n",
              "      <td>0</td>\n",
              "      <td>0</td>\n",
              "      <td>600000</td>\n",
              "      <td>2</td>\n",
              "    </tr>\n",
              "  </tbody>\n",
              "</table>\n",
              "</div>"
            ],
            "text/plain": [
              "   neighborhood=Fremont  neighborhood=Queen Anne  neighborhood=Wallingford  \\\n",
              "0                     0                        1                         0   \n",
              "1                     1                        0                         0   \n",
              "2                     0                        0                         1   \n",
              "3                     1                        0                         0   \n",
              "\n",
              "    price  rooms  \n",
              "0  850000      4  \n",
              "1  700000      3  \n",
              "2  650000      3  \n",
              "3  600000      2  "
            ]
          },
          "metadata": {
            "tags": []
          },
          "execution_count": 128
        }
      ]
    },
    {
      "cell_type": "markdown",
      "metadata": {
        "id": "TgSqteyNWm1m"
      },
      "source": [
        "## CountVectorizer"
      ]
    },
    {
      "cell_type": "code",
      "metadata": {
        "id": "GnJAQ6KqWm1m"
      },
      "source": [
        "sample = ['problem of evil',\n",
        "          'evil queen',\n",
        "          'horizon problem']"
      ],
      "execution_count": null,
      "outputs": []
    },
    {
      "cell_type": "code",
      "metadata": {
        "id": "sCUl7yJ7Wm1m",
        "outputId": "75dcd1de-32e9-4ee9-83fb-f79d14edbeed"
      },
      "source": [
        "from sklearn.feature_extraction.text import CountVectorizer\n",
        "\n",
        "vec = CountVectorizer()\n",
        "X = vec.fit_transform(sample)\n",
        "X"
      ],
      "execution_count": null,
      "outputs": [
        {
          "output_type": "execute_result",
          "data": {
            "text/plain": [
              "<3x5 sparse matrix of type '<class 'numpy.longlong'>'\n",
              "\twith 7 stored elements in Compressed Sparse Row format>"
            ]
          },
          "metadata": {
            "tags": []
          },
          "execution_count": 133
        }
      ]
    },
    {
      "cell_type": "code",
      "metadata": {
        "id": "SkC5jd4SWm1n",
        "outputId": "0a61772f-fb66-49bc-f51f-cb854c681389"
      },
      "source": [
        "pd.DataFrame(X.toarray(), columns=vec.get_feature_names()) # toarray "
      ],
      "execution_count": null,
      "outputs": [
        {
          "output_type": "execute_result",
          "data": {
            "text/html": [
              "<div>\n",
              "<style scoped>\n",
              "    .dataframe tbody tr th:only-of-type {\n",
              "        vertical-align: middle;\n",
              "    }\n",
              "\n",
              "    .dataframe tbody tr th {\n",
              "        vertical-align: top;\n",
              "    }\n",
              "\n",
              "    .dataframe thead th {\n",
              "        text-align: right;\n",
              "    }\n",
              "</style>\n",
              "<table border=\"1\" class=\"dataframe\">\n",
              "  <thead>\n",
              "    <tr style=\"text-align: right;\">\n",
              "      <th></th>\n",
              "      <th>evil</th>\n",
              "      <th>horizon</th>\n",
              "      <th>of</th>\n",
              "      <th>problem</th>\n",
              "      <th>queen</th>\n",
              "    </tr>\n",
              "  </thead>\n",
              "  <tbody>\n",
              "    <tr>\n",
              "      <th>0</th>\n",
              "      <td>1</td>\n",
              "      <td>0</td>\n",
              "      <td>1</td>\n",
              "      <td>1</td>\n",
              "      <td>0</td>\n",
              "    </tr>\n",
              "    <tr>\n",
              "      <th>1</th>\n",
              "      <td>1</td>\n",
              "      <td>0</td>\n",
              "      <td>0</td>\n",
              "      <td>0</td>\n",
              "      <td>1</td>\n",
              "    </tr>\n",
              "    <tr>\n",
              "      <th>2</th>\n",
              "      <td>0</td>\n",
              "      <td>1</td>\n",
              "      <td>0</td>\n",
              "      <td>1</td>\n",
              "      <td>0</td>\n",
              "    </tr>\n",
              "  </tbody>\n",
              "</table>\n",
              "</div>"
            ],
            "text/plain": [
              "   evil  horizon  of  problem  queen\n",
              "0     1        0   1        1      0\n",
              "1     1        0   0        0      1\n",
              "2     0        1   0        1      0"
            ]
          },
          "metadata": {
            "tags": []
          },
          "execution_count": 135
        }
      ]
    },
    {
      "cell_type": "code",
      "metadata": {
        "id": "L1y5tOaSWm1n",
        "outputId": "0ffe34d2-2eb7-4a2b-9692-02c170f7d110"
      },
      "source": [
        "# better to use Tfidf\n",
        "from sklearn.feature_extraction.text import TfidfVectorizer\n",
        "vec = TfidfVectorizer()\n",
        "X = vec.fit_transform(sample)\n",
        "pd.DataFrame(X.toarray(), columns=vec.get_feature_names())"
      ],
      "execution_count": null,
      "outputs": [
        {
          "output_type": "execute_result",
          "data": {
            "text/html": [
              "<div>\n",
              "<style scoped>\n",
              "    .dataframe tbody tr th:only-of-type {\n",
              "        vertical-align: middle;\n",
              "    }\n",
              "\n",
              "    .dataframe tbody tr th {\n",
              "        vertical-align: top;\n",
              "    }\n",
              "\n",
              "    .dataframe thead th {\n",
              "        text-align: right;\n",
              "    }\n",
              "</style>\n",
              "<table border=\"1\" class=\"dataframe\">\n",
              "  <thead>\n",
              "    <tr style=\"text-align: right;\">\n",
              "      <th></th>\n",
              "      <th>evil</th>\n",
              "      <th>horizon</th>\n",
              "      <th>of</th>\n",
              "      <th>problem</th>\n",
              "      <th>queen</th>\n",
              "    </tr>\n",
              "  </thead>\n",
              "  <tbody>\n",
              "    <tr>\n",
              "      <th>0</th>\n",
              "      <td>0.517856</td>\n",
              "      <td>0.000000</td>\n",
              "      <td>0.680919</td>\n",
              "      <td>0.517856</td>\n",
              "      <td>0.000000</td>\n",
              "    </tr>\n",
              "    <tr>\n",
              "      <th>1</th>\n",
              "      <td>0.605349</td>\n",
              "      <td>0.000000</td>\n",
              "      <td>0.000000</td>\n",
              "      <td>0.000000</td>\n",
              "      <td>0.795961</td>\n",
              "    </tr>\n",
              "    <tr>\n",
              "      <th>2</th>\n",
              "      <td>0.000000</td>\n",
              "      <td>0.795961</td>\n",
              "      <td>0.000000</td>\n",
              "      <td>0.605349</td>\n",
              "      <td>0.000000</td>\n",
              "    </tr>\n",
              "  </tbody>\n",
              "</table>\n",
              "</div>"
            ],
            "text/plain": [
              "       evil   horizon        of   problem     queen\n",
              "0  0.517856  0.000000  0.680919  0.517856  0.000000\n",
              "1  0.605349  0.000000  0.000000  0.000000  0.795961\n",
              "2  0.000000  0.795961  0.000000  0.605349  0.000000"
            ]
          },
          "metadata": {
            "tags": []
          },
          "execution_count": 136
        }
      ]
    },
    {
      "cell_type": "code",
      "metadata": {
        "id": "HJfgegxRWm1n"
      },
      "source": [
        ""
      ],
      "execution_count": null,
      "outputs": []
    },
    {
      "cell_type": "markdown",
      "metadata": {
        "id": "TdPbcvi1Wm1o"
      },
      "source": [
        "## LabelBinarizer "
      ]
    },
    {
      "cell_type": "code",
      "metadata": {
        "id": "WWgCeGKQWm1o",
        "outputId": "febdf8cb-aa2e-458f-d1fc-7e044419f3a1"
      },
      "source": [
        "# LabelBinarizer \n",
        "from sklearn.preprocessing import LabelBinarizer\n",
        "lb = LabelBinarizer()\n",
        "\n",
        "lb.fit(np.array([[0, 1, 1], [1, 0, 0]]))"
      ],
      "execution_count": null,
      "outputs": [
        {
          "output_type": "execute_result",
          "data": {
            "text/plain": [
              "LabelBinarizer()"
            ]
          },
          "metadata": {
            "tags": []
          },
          "execution_count": 108
        }
      ]
    },
    {
      "cell_type": "code",
      "metadata": {
        "id": "v16WLmuwWm1o",
        "outputId": "3204447a-ba28-4a47-e510-bb7b6a5b4f04"
      },
      "source": [
        "lb.classes_"
      ],
      "execution_count": null,
      "outputs": [
        {
          "output_type": "execute_result",
          "data": {
            "text/plain": [
              "array([0, 1, 2])"
            ]
          },
          "metadata": {
            "tags": []
          },
          "execution_count": 110
        }
      ]
    },
    {
      "cell_type": "code",
      "metadata": {
        "id": "16Oa3_fWWm1p",
        "outputId": "c407cb86-6fec-4bb4-b091-71272fdd2645"
      },
      "source": [
        "lb.transform([0, 1, 2, 1])"
      ],
      "execution_count": null,
      "outputs": [
        {
          "output_type": "execute_result",
          "data": {
            "text/plain": [
              "array([[1, 0, 0],\n",
              "       [0, 1, 0],\n",
              "       [0, 0, 1],\n",
              "       [0, 1, 0]])"
            ]
          },
          "metadata": {
            "tags": []
          },
          "execution_count": 111
        }
      ]
    },
    {
      "cell_type": "code",
      "metadata": {
        "id": "Y25whdQnWm1p"
      },
      "source": [
        ""
      ],
      "execution_count": null,
      "outputs": []
    },
    {
      "cell_type": "code",
      "metadata": {
        "id": "EZ_a8CH4Wm1p"
      },
      "source": [
        "## DictVectorizer"
      ],
      "execution_count": null,
      "outputs": []
    },
    {
      "cell_type": "code",
      "metadata": {
        "id": "cLIJQVVgWm1p"
      },
      "source": [
        ""
      ],
      "execution_count": null,
      "outputs": []
    },
    {
      "cell_type": "code",
      "metadata": {
        "id": "jmUe3ku3Wm1p"
      },
      "source": [
        ""
      ],
      "execution_count": null,
      "outputs": []
    },
    {
      "cell_type": "code",
      "metadata": {
        "id": "WbrHKYq0Wm1p"
      },
      "source": [
        ""
      ],
      "execution_count": null,
      "outputs": []
    },
    {
      "cell_type": "code",
      "metadata": {
        "id": "cmxAdEKeWm1q"
      },
      "source": [
        ""
      ],
      "execution_count": null,
      "outputs": []
    },
    {
      "cell_type": "code",
      "metadata": {
        "id": "sUDSDmpbWm1q"
      },
      "source": [
        ""
      ],
      "execution_count": null,
      "outputs": []
    },
    {
      "cell_type": "code",
      "metadata": {
        "id": "WMuSkSAbWm1q"
      },
      "source": [
        ""
      ],
      "execution_count": null,
      "outputs": []
    },
    {
      "cell_type": "code",
      "metadata": {
        "id": "9mqPVNn2Wm1q"
      },
      "source": [
        ""
      ],
      "execution_count": null,
      "outputs": []
    },
    {
      "cell_type": "markdown",
      "metadata": {
        "id": "Ev2AnoQ5Wm1q"
      },
      "source": [
        "## Scaling "
      ]
    },
    {
      "cell_type": "code",
      "metadata": {
        "id": "z3Lh8ZaXWm1q"
      },
      "source": [
        ""
      ],
      "execution_count": null,
      "outputs": []
    },
    {
      "cell_type": "code",
      "metadata": {
        "id": "fqScYliZWm1q"
      },
      "source": [
        ""
      ],
      "execution_count": null,
      "outputs": []
    },
    {
      "cell_type": "markdown",
      "metadata": {
        "id": "9H1CrQzFWm1q"
      },
      "source": [
        "## Pipelines\n",
        "\n",
        "* Feature Selection and Engineering\n",
        "* Grid search\n",
        "* Model\n"
      ]
    },
    {
      "cell_type": "code",
      "metadata": {
        "id": "SxBgbaiIWm1q"
      },
      "source": [
        ""
      ],
      "execution_count": null,
      "outputs": []
    },
    {
      "cell_type": "code",
      "metadata": {
        "id": "e0wGp3BzWm1r"
      },
      "source": [
        ""
      ],
      "execution_count": null,
      "outputs": []
    },
    {
      "cell_type": "code",
      "metadata": {
        "id": "hk9u45AUWm1r"
      },
      "source": [
        ""
      ],
      "execution_count": null,
      "outputs": []
    },
    {
      "cell_type": "code",
      "metadata": {
        "id": "S21HYOI1Wm1r"
      },
      "source": [
        ""
      ],
      "execution_count": null,
      "outputs": []
    },
    {
      "cell_type": "code",
      "metadata": {
        "id": "UF4ZNjhAWm1r"
      },
      "source": [
        "%matplotlib inline\n",
        "import numpy as np\n",
        "import matplotlib.pyplot as plt\n",
        "import pandas as pd\n",
        "\n",
        "# Some libraries tend to be in flux for their dependency versions\n",
        "import warnings\n",
        "warnings.simplefilter(\"ignore\")"
      ],
      "execution_count": null,
      "outputs": []
    },
    {
      "cell_type": "code",
      "metadata": {
        "id": "ce3rR5eNWm1r",
        "outputId": "2fa57a8d-0436-420c-eea8-c1ed951d4550"
      },
      "source": [
        "# load \n",
        "from sklearn.datasets import load_breast_cancer\n",
        "cancer = load_breast_cancer()\n",
        "\n",
        "# From here on, we refer to features and target by the\n",
        "# generic X, y rather than tie it to the dataset\n",
        "X, y = cancer.data, cancer.target\n",
        "X.shape"
      ],
      "execution_count": null,
      "outputs": [
        {
          "output_type": "execute_result",
          "data": {
            "text/plain": [
              "(569, 30)"
            ]
          },
          "metadata": {
            "tags": []
          },
          "execution_count": 3
        }
      ]
    },
    {
      "cell_type": "code",
      "metadata": {
        "id": "TVuH2qwuWm1r",
        "outputId": "07fd6b13-8c0d-4a4b-cede-d8c95bc9f515"
      },
      "source": [
        "# Synthetic features via polynominal expansion\n",
        "from sklearn.preprocessing import PolynomialFeatures\n",
        "poly = PolynomialFeatures(2)\n",
        "X_poly = poly.fit_transform(X)\n",
        "X_poly.shape"
      ],
      "execution_count": null,
      "outputs": [
        {
          "output_type": "execute_result",
          "data": {
            "text/plain": [
              "(569, 496)"
            ]
          },
          "metadata": {
            "tags": []
          },
          "execution_count": 4
        }
      ]
    },
    {
      "cell_type": "code",
      "metadata": {
        "id": "VJv1BZBVWm1r",
        "outputId": "77d8aac4-2a35-424b-e67b-5cc2c3812f92"
      },
      "source": [
        "# Scale\n",
        "from sklearn.preprocessing import MinMaxScaler # standard \n",
        "\n",
        "# compute minimum and maximum on the training data\n",
        "scaler = MinMaxScaler()\n",
        "scaler.fit(X_poly)\n",
        "\n",
        "# rescale training data\n",
        "X_poly_scaled = scaler.transform(X_poly)\n",
        "X_poly_scaled.shape"
      ],
      "execution_count": null,
      "outputs": [
        {
          "output_type": "execute_result",
          "data": {
            "text/plain": [
              "(569, 496)"
            ]
          },
          "metadata": {
            "tags": []
          },
          "execution_count": 6
        }
      ]
    },
    {
      "cell_type": "code",
      "metadata": {
        "id": "MaF27jgBWm1s",
        "outputId": "a65bc1f3-be5e-428a-fdec-a33f036086df"
      },
      "source": [
        "# select top twenty percent performing\n",
        "from sklearn.feature_selection import SelectPercentile\n",
        "\n",
        "select = SelectPercentile(percentile=20)\n",
        "select.fit(X_poly_scaled, y)\n",
        "\n",
        "X_selected = select.transform(X_poly_scaled)\n",
        "X_selected.shape"
      ],
      "execution_count": null,
      "outputs": [
        {
          "output_type": "execute_result",
          "data": {
            "text/plain": [
              "(569, 99)"
            ]
          },
          "metadata": {
            "tags": []
          },
          "execution_count": 10
        }
      ]
    },
    {
      "cell_type": "code",
      "metadata": {
        "id": "iBFPhglAWm1s",
        "outputId": "2dd73409-7aa8-42c7-a519-4982dd09c79c"
      },
      "source": [
        "# Test Feature Engineered Data Against Model\n",
        "\n",
        "from sklearn.ensemble import RandomForestClassifier\n",
        "rfc = RandomForestClassifier(max_depth=7, random_state=1) \n",
        "\n",
        "from sklearn.metrics import f1_score, make_scorer\n",
        "scorer = make_scorer(f1_score)\n",
        "\n",
        "from sklearn.model_selection import KFold # use KFold for cv\n",
        "kf = KFold(5)# , random_state=false)\n",
        "\n",
        "from sklearn.model_selection import cross_val_score \n",
        "cv_scores = cross_val_score(rfc, X_selected, y, scoring=scorer, cv=kf)\n",
        "\n",
        "print(\" CV scores:\", cv_scores)\n",
        "print(\"Mean score:\", np.mean(cv_scores))"
      ],
      "execution_count": null,
      "outputs": [
        {
          "output_type": "stream",
          "text": [
            " CV scores: [0.92929293 0.98461538 0.98013245 0.99408284 0.98245614]\n",
            "Mean score: 0.9741159489654005\n"
          ],
          "name": "stdout"
        }
      ]
    },
    {
      "cell_type": "code",
      "metadata": {
        "id": "7f8n5Z55Wm1s",
        "outputId": "82f22d25-b93b-45e2-c1db-a8888df42eb9"
      },
      "source": [
        "# how we did on the raw \n",
        "cv_scores = cross_val_score(rfc, X, y, scoring=scorer, cv=kf)\n",
        "print(\"Raw data CV scores:\", cv_scores)\n",
        "print(\"    Raw mean score:\", np.mean(cv_scores))"
      ],
      "execution_count": null,
      "outputs": [
        {
          "output_type": "stream",
          "text": [
            "Raw data CV scores: [0.89795918 0.94573643 0.98666667 0.9704142  0.98245614]\n",
            "    Raw mean score: 0.9566465251965944\n"
          ],
          "name": "stdout"
        }
      ]
    },
    {
      "cell_type": "markdown",
      "metadata": {
        "id": "YBtv-xT_Wm1s"
      },
      "source": [
        "### pipeline one"
      ]
    },
    {
      "cell_type": "code",
      "metadata": {
        "id": "yZ9sZCM9Wm1t"
      },
      "source": [
        "# turn into pipeline\n",
        "from sklearn.pipeline import Pipeline\n",
        "\n",
        "pipe = Pipeline([\n",
        "    (\"Polynomial features\", PolynomialFeatures(2)), # expansion \n",
        "    (\"MinMax scaling\", MinMaxScaler()), # scaling \n",
        "    (\"Top 20% features\", SelectPercentile(percentile=20)), # selection \n",
        "    (\"Random Forest\", RandomForestClassifier(max_depth=7)), # model\n",
        "])"
      ],
      "execution_count": null,
      "outputs": []
    },
    {
      "cell_type": "code",
      "metadata": {
        "id": "Ha9NAPa-Wm1t",
        "outputId": "fb9ec0cc-8fe5-4e33-ee45-9db430a88ae2"
      },
      "source": [
        "# run pipeline through cv \n",
        "cv_scores = cross_val_score(pipe, \n",
        "                            X, y, \n",
        "                            scoring=make_scorer(f1_score), \n",
        "                            cv=KFold(5))\n",
        "\n",
        "print(\"Pipeline CV scores:\", cv_scores)\n",
        "print(\"Pipeline mean score:\", np.mean(cv_scores))"
      ],
      "execution_count": null,
      "outputs": [
        {
          "output_type": "stream",
          "text": [
            "Pipeline CV scores: [0.92929293 0.98461538 0.98666667 0.98224852 0.98245614]\n",
            "Pipeline mean score: 0.9730559283271834\n"
          ],
          "name": "stdout"
        }
      ]
    },
    {
      "cell_type": "code",
      "metadata": {
        "id": "ClhSSWj_Wm1t",
        "outputId": "2a8c2541-60c4-4fdd-80cf-258d3e870863"
      },
      "source": [
        "#  recover (and even modify in-place) the steps of a pipeline\n",
        "pipe.steps # does not show the KFold cv"
      ],
      "execution_count": null,
      "outputs": [
        {
          "output_type": "execute_result",
          "data": {
            "text/plain": [
              "[('Polynomial features', PolynomialFeatures()),\n",
              " ('MinMax scaling', MinMaxScaler()),\n",
              " ('Top 20% features', SelectPercentile(percentile=20)),\n",
              " ('Random Forest', RandomForestClassifier(max_depth=7))]"
            ]
          },
          "metadata": {
            "tags": []
          },
          "execution_count": 18
        }
      ]
    },
    {
      "cell_type": "code",
      "metadata": {
        "id": "A82ltMhfWm1t"
      },
      "source": [
        "# pickle for later use\n",
        "from pickle import dump, load\n",
        "dump(pipe, open('cancer-pipeline.pkl','wb')) "
      ],
      "execution_count": null,
      "outputs": []
    },
    {
      "cell_type": "code",
      "metadata": {
        "id": "b8jz-hwrWm1t",
        "outputId": "aa340e75-780a-4384-c5ce-4085b7380c65"
      },
      "source": [
        "# open and reinstantiate\n",
        "newpipe = load(open('cancer-pipeline.pkl','rb'))\n",
        "cv_scores = cross_val_score(newpipe, \n",
        "                            X, y, \n",
        "                            scoring=make_scorer(f1_score), \n",
        "                            cv=KFold(5))\n",
        "\n",
        "print(\" Pipeline CV scores:\", cv_scores)\n",
        "print(\"Pipeline mean score:\", np.mean(cv_scores))"
      ],
      "execution_count": null,
      "outputs": [
        {
          "output_type": "stream",
          "text": [
            " Pipeline CV scores: [0.93877551 0.97709924 0.98666667 0.98224852 0.98245614]\n",
            "Pipeline mean score: 0.9734492149145811\n"
          ],
          "name": "stdout"
        }
      ]
    },
    {
      "cell_type": "code",
      "metadata": {
        "id": "zEnI2CdqWm1u",
        "outputId": "647559b3-f932-4292-d85a-017b5ec06223"
      },
      "source": [
        "# use pipe to train model \n",
        "pipe.fit(X, y)"
      ],
      "execution_count": null,
      "outputs": [
        {
          "output_type": "execute_result",
          "data": {
            "text/plain": [
              "Pipeline(steps=[('Polynomial features', PolynomialFeatures()),\n",
              "                ('MinMax scaling', MinMaxScaler()),\n",
              "                ('Top 20% features', SelectPercentile(percentile=20)),\n",
              "                ('Random Forest', RandomForestClassifier(max_depth=7))])"
            ]
          },
          "metadata": {
            "tags": []
          },
          "execution_count": 24
        }
      ]
    },
    {
      "cell_type": "code",
      "metadata": {
        "id": "tUCUIkbuWm1u",
        "outputId": "93965c8d-7c7d-4052-cb1f-873ab631a603"
      },
      "source": [
        "# pip to predict \n",
        "pipe.predict(X)"
      ],
      "execution_count": null,
      "outputs": [
        {
          "output_type": "execute_result",
          "data": {
            "text/plain": [
              "array([0, 0, 0, 0, 0, 0, 0, 0, 0, 0, 0, 0, 0, 0, 0, 0, 0, 0, 0, 1, 1, 1,\n",
              "       0, 0, 0, 0, 0, 0, 0, 0, 0, 0, 0, 0, 0, 0, 0, 1, 0, 0, 0, 0, 0, 0,\n",
              "       0, 0, 1, 0, 1, 1, 1, 1, 1, 0, 0, 1, 0, 0, 1, 1, 1, 1, 0, 1, 0, 0,\n",
              "       1, 1, 1, 1, 0, 1, 0, 0, 1, 0, 1, 0, 0, 1, 1, 1, 0, 0, 1, 0, 0, 0,\n",
              "       1, 1, 1, 0, 1, 1, 0, 0, 1, 1, 1, 0, 0, 1, 1, 1, 1, 0, 1, 1, 0, 1,\n",
              "       1, 1, 1, 1, 1, 1, 1, 0, 0, 0, 1, 0, 0, 1, 1, 1, 0, 0, 1, 0, 1, 0,\n",
              "       0, 1, 0, 0, 1, 1, 0, 1, 1, 0, 1, 1, 1, 1, 0, 1, 1, 1, 1, 1, 1, 1,\n",
              "       1, 1, 0, 1, 1, 1, 1, 0, 0, 1, 0, 1, 1, 0, 0, 1, 1, 0, 0, 1, 1, 1,\n",
              "       1, 0, 1, 1, 0, 0, 0, 1, 0, 1, 0, 1, 1, 1, 0, 1, 1, 0, 0, 1, 0, 0,\n",
              "       0, 0, 1, 0, 0, 0, 1, 0, 1, 0, 1, 1, 0, 1, 0, 0, 0, 0, 1, 1, 0, 0,\n",
              "       1, 1, 1, 0, 1, 1, 1, 1, 1, 0, 0, 1, 1, 0, 1, 1, 0, 0, 1, 0, 1, 1,\n",
              "       1, 1, 0, 1, 1, 1, 1, 1, 0, 1, 0, 0, 0, 0, 0, 0, 0, 0, 0, 0, 0, 0,\n",
              "       0, 0, 1, 1, 1, 1, 1, 1, 0, 1, 0, 1, 1, 0, 1, 1, 0, 1, 0, 0, 1, 1,\n",
              "       1, 1, 1, 1, 1, 1, 1, 1, 1, 1, 1, 0, 1, 1, 0, 1, 0, 1, 1, 1, 1, 1,\n",
              "       1, 1, 1, 1, 1, 1, 1, 1, 1, 0, 1, 1, 1, 0, 1, 0, 1, 1, 1, 1, 0, 0,\n",
              "       0, 1, 1, 1, 1, 0, 1, 0, 1, 0, 1, 1, 1, 0, 1, 1, 1, 1, 1, 1, 1, 0,\n",
              "       0, 0, 1, 1, 1, 1, 1, 1, 1, 1, 1, 1, 1, 0, 0, 1, 0, 0, 0, 1, 0, 0,\n",
              "       1, 1, 1, 1, 1, 0, 1, 1, 1, 1, 1, 0, 1, 1, 1, 0, 1, 1, 0, 0, 1, 1,\n",
              "       1, 1, 1, 1, 0, 1, 1, 1, 1, 1, 1, 1, 0, 1, 1, 1, 1, 1, 0, 1, 1, 0,\n",
              "       1, 1, 1, 1, 1, 1, 1, 1, 1, 1, 1, 1, 0, 1, 0, 0, 1, 0, 1, 1, 1, 1,\n",
              "       1, 0, 1, 1, 0, 1, 0, 1, 1, 0, 1, 0, 1, 1, 1, 1, 1, 1, 1, 1, 0, 0,\n",
              "       1, 1, 1, 1, 1, 1, 0, 1, 1, 1, 1, 1, 1, 1, 1, 1, 1, 0, 1, 1, 1, 1,\n",
              "       1, 1, 1, 0, 1, 0, 1, 1, 0, 1, 1, 1, 1, 1, 0, 0, 1, 0, 1, 0, 1, 1,\n",
              "       1, 1, 1, 0, 1, 1, 0, 1, 0, 1, 0, 0, 1, 1, 1, 0, 1, 1, 1, 1, 1, 1,\n",
              "       1, 1, 1, 1, 1, 0, 1, 0, 0, 1, 1, 1, 1, 1, 1, 1, 1, 1, 1, 1, 1, 1,\n",
              "       1, 1, 1, 1, 1, 1, 1, 1, 1, 1, 1, 1, 0, 0, 0, 0, 0, 0, 1])"
            ]
          },
          "metadata": {
            "tags": []
          },
          "execution_count": 29
        }
      ]
    },
    {
      "cell_type": "markdown",
      "metadata": {
        "id": "U8Gpg_wGWm1u"
      },
      "source": [
        "### Pipeline factory "
      ]
    },
    {
      "cell_type": "code",
      "metadata": {
        "id": "xw5rWHo6Wm1u",
        "outputId": "26c18d95-217f-42d9-b85f-7aea049838db"
      },
      "source": [
        "# only limited in naming, but same steps \n",
        "\n",
        "from sklearn.pipeline import make_pipeline\n",
        "\n",
        "pipef = make_pipeline(\n",
        "    PolynomialFeatures(2),\n",
        "    MinMaxScaler(),\n",
        "    SelectPercentile(percentile=20),\n",
        "    RandomForestClassifier(max_depth=7))\n",
        "\n",
        "pipef.steps"
      ],
      "execution_count": null,
      "outputs": [
        {
          "output_type": "execute_result",
          "data": {
            "text/plain": [
              "[('polynomialfeatures', PolynomialFeatures()),\n",
              " ('minmaxscaler', MinMaxScaler()),\n",
              " ('selectpercentile', SelectPercentile(percentile=20)),\n",
              " ('randomforestclassifier', RandomForestClassifier(max_depth=7))]"
            ]
          },
          "metadata": {
            "tags": []
          },
          "execution_count": 32
        }
      ]
    },
    {
      "cell_type": "code",
      "metadata": {
        "id": "x3nHbgOGWm1u",
        "outputId": "f27e5319-c589-493f-ddb3-ffa7a442aa58"
      },
      "source": [
        "# run pipeline through cv \n",
        "cv_scores = cross_val_score(pipef, \n",
        "                            X, y, \n",
        "                            scoring=make_scorer(f1_score), \n",
        "                            cv=KFold(5))\n",
        "\n",
        "print(\"Pipeline CV scores:\", cv_scores)\n",
        "print(\"Pipeline mean score:\", np.mean(cv_scores))"
      ],
      "execution_count": null,
      "outputs": [
        {
          "output_type": "stream",
          "text": [
            "Pipeline CV scores: [0.92929293 0.98461538 0.98666667 0.98203593 0.98245614]\n",
            "Pipeline mean score: 0.9730134098139139\n"
          ],
          "name": "stdout"
        }
      ]
    },
    {
      "cell_type": "markdown",
      "metadata": {
        "id": "v3j5P1zIWm1v"
      },
      "source": [
        "## Pipe w grid search "
      ]
    },
    {
      "cell_type": "code",
      "metadata": {
        "id": "Fmm47D6eWm1v",
        "outputId": "af4974cc-2b26-4ddf-d228-e4bd3a7e6a34"
      },
      "source": [
        "%%time\n",
        "# Takes about a minute for this grid search\n",
        "\n",
        "from sklearn.model_selection import GridSearchCV\n",
        "\n",
        "params = {'polynomialfeatures__degree': [1, 2, 3],\n",
        "          'selectpercentile__percentile': [10, 15, 20, 50],\n",
        "          'randomforestclassifier__max_depth': [5, 7, 9],\n",
        "          'randomforestclassifier__criterion': ['entropy', 'gini']}\n",
        "\n",
        "grid = GridSearchCV(pipe, param_grid=params, cv=5)\n",
        "grid.fit(X, y)\n",
        "\n",
        "print(\"best cross-validation accuracy:\", grid.best_score_)\n",
        "print(\"best dataset score: \", grid.score(X, y))   # Overfitting against entire dataset\n",
        "print(\"best parameters: \", grid.best_params_)"
      ],
      "execution_count": null,
      "outputs": [
        {
          "output_type": "stream",
          "text": [
            "best cross-validation accuracy: 0.9789318428815401\n",
            "best dataset score:  1.0\n",
            "best parameters:  {'polynomialfeatures__degree': 3, 'randomforestclassifier__criterion': 'entropy', 'randomforestclassifier__max_depth': 7, 'selectpercentile__percentile': 50}\n",
            "CPU times: user 1min 30s, sys: 4.85 s, total: 1min 35s\n",
            "Wall time: 1min 38s\n"
          ],
          "name": "stdout"
        }
      ]
    },
    {
      "cell_type": "code",
      "metadata": {
        "id": "8kEbGo2TWm1v",
        "outputId": "2337651e-eccb-410a-db0c-799ca8d00c84"
      },
      "source": [
        "# instantiate and test best estimator a model  \n",
        "model = grid.best_estimator_\n",
        "\n",
        "cv_scores = cross_val_score(model, \n",
        "                            X, y, \n",
        "                            scoring=make_scorer(f1_score), \n",
        "                            cv=KFold(5))\n",
        "\n",
        "print(\"Grid CV scores:\", cv_scores)\n",
        "print(\"Grid mean score:\", np.mean(cv_scores))"
      ],
      "execution_count": null,
      "outputs": [
        {
          "output_type": "stream",
          "text": [
            "Grid CV scores: [0.95833333 0.98461538 0.98013245 0.98809524 0.99421965]\n",
            "Grid mean score: 0.9810792119108547\n"
          ],
          "name": "stdout"
        }
      ]
    },
    {
      "cell_type": "code",
      "metadata": {
        "id": "AuoEvJWdWm1v",
        "outputId": "88ef725b-0e07-45a3-dea1-f49d56ed3f04"
      },
      "source": [
        "# steps of model like pipe \n",
        "model.steps"
      ],
      "execution_count": null,
      "outputs": [
        {
          "output_type": "execute_result",
          "data": {
            "text/plain": [
              "[('polynomialfeatures', PolynomialFeatures(degree=3)),\n",
              " ('minmaxscaler', MinMaxScaler()),\n",
              " ('selectpercentile', SelectPercentile(percentile=50)),\n",
              " ('randomforestclassifier',\n",
              "  RandomForestClassifier(criterion='entropy', max_depth=7))]"
            ]
          },
          "metadata": {
            "tags": []
          },
          "execution_count": 38
        }
      ]
    },
    {
      "cell_type": "code",
      "metadata": {
        "id": "40dgSLbpWm1v",
        "outputId": "a0b0106c-27d2-4979-9dcb-7e17e128b26e"
      },
      "source": [
        "# evalute the other configurations of the the grid search in .cv_results\n",
        "df_grid = pd.DataFrame(grid.cv_results_).set_index('rank_test_score').sort_index()\n",
        "\n",
        "df_params = df_grid.loc[:,df_grid.columns.str.contains('param_')]\n",
        "\n",
        "cols = [c.split('_')[-1] for c in df_params.columns]\n",
        "\n",
        "df_params.columns = cols\n",
        "df_params.head(10)"
      ],
      "execution_count": null,
      "outputs": [
        {
          "output_type": "execute_result",
          "data": {
            "text/html": [
              "<div>\n",
              "<style scoped>\n",
              "    .dataframe tbody tr th:only-of-type {\n",
              "        vertical-align: middle;\n",
              "    }\n",
              "\n",
              "    .dataframe tbody tr th {\n",
              "        vertical-align: top;\n",
              "    }\n",
              "\n",
              "    .dataframe thead th {\n",
              "        text-align: right;\n",
              "    }\n",
              "</style>\n",
              "<table border=\"1\" class=\"dataframe\">\n",
              "  <thead>\n",
              "    <tr style=\"text-align: right;\">\n",
              "      <th></th>\n",
              "      <th>degree</th>\n",
              "      <th>criterion</th>\n",
              "      <th>depth</th>\n",
              "      <th>percentile</th>\n",
              "    </tr>\n",
              "    <tr>\n",
              "      <th>rank_test_score</th>\n",
              "      <th></th>\n",
              "      <th></th>\n",
              "      <th></th>\n",
              "      <th></th>\n",
              "    </tr>\n",
              "  </thead>\n",
              "  <tbody>\n",
              "    <tr>\n",
              "      <th>1</th>\n",
              "      <td>3</td>\n",
              "      <td>entropy</td>\n",
              "      <td>7</td>\n",
              "      <td>50</td>\n",
              "    </tr>\n",
              "    <tr>\n",
              "      <th>2</th>\n",
              "      <td>3</td>\n",
              "      <td>gini</td>\n",
              "      <td>7</td>\n",
              "      <td>20</td>\n",
              "    </tr>\n",
              "    <tr>\n",
              "      <th>3</th>\n",
              "      <td>3</td>\n",
              "      <td>gini</td>\n",
              "      <td>5</td>\n",
              "      <td>15</td>\n",
              "    </tr>\n",
              "    <tr>\n",
              "      <th>4</th>\n",
              "      <td>3</td>\n",
              "      <td>entropy</td>\n",
              "      <td>7</td>\n",
              "      <td>20</td>\n",
              "    </tr>\n",
              "    <tr>\n",
              "      <th>4</th>\n",
              "      <td>3</td>\n",
              "      <td>entropy</td>\n",
              "      <td>9</td>\n",
              "      <td>50</td>\n",
              "    </tr>\n",
              "    <tr>\n",
              "      <th>6</th>\n",
              "      <td>3</td>\n",
              "      <td>gini</td>\n",
              "      <td>5</td>\n",
              "      <td>50</td>\n",
              "    </tr>\n",
              "    <tr>\n",
              "      <th>7</th>\n",
              "      <td>3</td>\n",
              "      <td>entropy</td>\n",
              "      <td>9</td>\n",
              "      <td>20</td>\n",
              "    </tr>\n",
              "    <tr>\n",
              "      <th>8</th>\n",
              "      <td>2</td>\n",
              "      <td>gini</td>\n",
              "      <td>7</td>\n",
              "      <td>50</td>\n",
              "    </tr>\n",
              "    <tr>\n",
              "      <th>8</th>\n",
              "      <td>3</td>\n",
              "      <td>gini</td>\n",
              "      <td>7</td>\n",
              "      <td>50</td>\n",
              "    </tr>\n",
              "    <tr>\n",
              "      <th>8</th>\n",
              "      <td>2</td>\n",
              "      <td>entropy</td>\n",
              "      <td>7</td>\n",
              "      <td>50</td>\n",
              "    </tr>\n",
              "  </tbody>\n",
              "</table>\n",
              "</div>"
            ],
            "text/plain": [
              "                degree criterion depth percentile\n",
              "rank_test_score                                  \n",
              "1                    3   entropy     7         50\n",
              "2                    3      gini     7         20\n",
              "3                    3      gini     5         15\n",
              "4                    3   entropy     7         20\n",
              "4                    3   entropy     9         50\n",
              "6                    3      gini     5         50\n",
              "7                    3   entropy     9         20\n",
              "8                    2      gini     7         50\n",
              "8                    3      gini     7         50\n",
              "8                    2   entropy     7         50"
            ]
          },
          "metadata": {
            "tags": []
          },
          "execution_count": 39
        }
      ]
    },
    {
      "cell_type": "code",
      "metadata": {
        "id": "3Q9q5YdPWm1w"
      },
      "source": [
        ""
      ],
      "execution_count": null,
      "outputs": []
    },
    {
      "cell_type": "code",
      "metadata": {
        "id": "x1gPmcwvWm1w"
      },
      "source": [
        ""
      ],
      "execution_count": null,
      "outputs": []
    },
    {
      "cell_type": "markdown",
      "metadata": {
        "id": "6L_wiSJrWm1w"
      },
      "source": [
        "## Robust Train/Test Splits \n",
        "\n",
        "* cross_val_score\n",
        "* ShuffleSplit\n",
        "* KFold, RepeatedKFold, LeaveOneOut, LeavePOut, StratifiedKFold"
      ]
    },
    {
      "cell_type": "code",
      "metadata": {
        "id": "Ssj3My4gWm1w"
      },
      "source": [
        ""
      ],
      "execution_count": null,
      "outputs": []
    },
    {
      "cell_type": "code",
      "metadata": {
        "id": "zX_M0rjXWm1w"
      },
      "source": [
        ""
      ],
      "execution_count": null,
      "outputs": []
    },
    {
      "cell_type": "code",
      "metadata": {
        "id": "pWlCTqYDWm1w"
      },
      "source": [
        ""
      ],
      "execution_count": null,
      "outputs": []
    }
  ]
}